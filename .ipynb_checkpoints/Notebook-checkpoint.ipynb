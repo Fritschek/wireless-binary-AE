{
 "cells": [
  {
   "cell_type": "code",
   "execution_count": 4,
   "id": "a060dfa1-4be6-4214-a85d-ca8ae31e6631",
   "metadata": {},
   "outputs": [],
   "source": [
    "import numpy as np\n",
    "import torch\n",
    "import pickle\n",
    "import csv\n",
    "import os\n",
    "\n",
    "import random\n",
    "# -----------\n",
    "seed = 1337\n",
    "# Set seeds\n",
    "random.seed(seed)\n",
    "np.random.seed(seed)\n",
    "torch.manual_seed(seed)\n",
    "torch.cuda.manual_seed(seed)\n",
    "torch.cuda.manual_seed_all(seed)\n",
    "#torch.backends.cudnn.deterministic = True\n",
    "#torch.backends.cudnn.benchmark = False\n",
    "\n",
    "# Own libraries\n",
    "import utils\n",
    "import trainer as trainer\n",
    "import model_channel as model\n",
    "import model_turboAE as model_TAE\n",
    "import model_prodAE as model_prodAE\n",
    "\n",
    "import gc\n",
    "gc.collect()\n",
    "torch.cuda.empty_cache()"
   ]
  },
  {
   "cell_type": "markdown",
   "id": "4a258a80-26c9-4615-95a6-587747bbb675",
   "metadata": {},
   "source": [
    "## Encoding parameters\n",
    "\n",
    "k = 64 and n = 128 for rate 0.5. This will yield the same result in SNR and EBN0 and is good for comparison."
   ]
  },
  {
   "cell_type": "code",
   "execution_count": 2,
   "id": "c97ad605-5e1c-46f8-8f97-2f363762dcc7",
   "metadata": {},
   "outputs": [
    {
     "name": "stdout",
     "output_type": "stream",
     "text": [
      "Code rate:  0.5\n"
     ]
    }
   ],
   "source": [
    "k = 100 # msg length in bits\n",
    "n = 200 # codeword length\n",
    "bs = 500  # batch size\n",
    "\n",
    "rate = (k/n)\n",
    "TRAINING_SNR = 2\n",
    "\n",
    "#noise_std = utils.SNR_to_noise(TRAINING_SNR)\n",
    "noise_std = utils.EbNo_to_noise(TRAINING_SNR, rate)\n",
    "\n",
    "print(\"Code rate: \",rate)"
   ]
  },
  {
   "cell_type": "markdown",
   "id": "197b463d-53d7-4e08-ae1d-a1dd54b37ca9",
   "metadata": {},
   "source": [
    "## Create path for data"
   ]
  },
  {
   "cell_type": "code",
   "execution_count": 3,
   "id": "ea92d33e-efa8-4592-9ec0-1726abd56912",
   "metadata": {},
   "outputs": [],
   "source": [
    "from datetime import datetime\n",
    "# Get the current date and time\n",
    "now = datetime.now()\n",
    "# Format the date and time\n",
    "formatted_date = now.strftime(\"%Y%m%d_%H%M%S\")\n",
    "# Construct the model's filename\n",
    "path = f\"./data/Binary_run_{formatted_date}.pth\"\n",
    "\n",
    "folder_path = './data/'\n",
    "if not os.path.exists(folder_path):\n",
    "    os.makedirs(folder_path)\n",
    "    print(f\"'{folder_path}' has been created.\")\n",
    "\n",
    "device = torch.device(\"cuda\" if torch.cuda.is_available() else \"cpu\")"
   ]
  },
  {
   "cell_type": "markdown",
   "id": "b71eda77-d9f2-4e10-9567-e3050516cd23",
   "metadata": {},
   "source": [
    "## Turboe AE\n",
    "\n",
    "- Normal Interleaver is model_TAE.Interleaver(config)\n",
    "- Interleaver with backprop route is \"model_TAE.LearnableInterleaver(config)\"\n",
    "- Gumbel interleaver is experimental for having a \"learnable soft permutation\"."
   ]
  },
  {
   "cell_type": "code",
   "execution_count": 4,
   "id": "bfc699be-eb21-4fd3-9cef-7c058d1b38db",
   "metadata": {},
   "outputs": [
    {
     "name": "stdout",
     "output_type": "stream",
     "text": [
      "Array:  [26 86  2 55 75 93 16 73 54 95 53 92 78 13  7 30 22 24 33  8 43 62  3 71\n",
      " 45 48  6 99 82 76 60 80 90 68 51 27 18 56 63 74  1 61 42 41  4 15 17 40\n",
      " 38  5 91 59  0 34 28 50 11 35 23 52 10 31 66 57 79 85 32 84 14 89 19 29\n",
      " 49 97 98 69 20 94 72 77 25 37 81 46 39 65 58 12 88 70 87 36 21 83  9 96\n",
      " 67 64 47 44]\n"
     ]
    }
   ],
   "source": [
    "### Turbo AE\n",
    "config = model_TAE.TurboConfig(block_len=k, enc_num_unit=100, dec_num_unit=100)\n",
    "\n",
    "## Gumbel Interleaver: \n",
    "\n",
    "#import random\n",
    "#perm = list(range(config.block_len))\n",
    "#random.shuffle(perm)\n",
    "#interleaver = model_TAE.GumbelInterleaver(config, permutation=perm)\n",
    "\n",
    "## Normal interleaver:\n",
    "\n",
    "#interleaver = model_TAE.LearnableInterleaver(config)\n",
    "interleaver = model_TAE.Interleaver(config)\n",
    "\n",
    "encoder = model_TAE.ENC_CNNTurbo(config, interleaver).to(device)\n",
    "decoder = model_TAE.DEC_CNNTurbo(config, interleaver).to(device)"
   ]
  },
  {
   "cell_type": "code",
   "execution_count": 5,
   "id": "0159ae8e-6dcd-4bca-86ea-8211af193bf0",
   "metadata": {},
   "outputs": [],
   "source": [
    "#encoder = model_CNNENC.Encoder().to(device)\n",
    "#decoder = model_CNNENC.Decoder().to(device)"
   ]
  },
  {
   "cell_type": "code",
   "execution_count": 6,
   "id": "56db3341-f4e8-4cce-ad25-1086f1830f2d",
   "metadata": {},
   "outputs": [],
   "source": [
    "#encoder = model_t.TransformerEncoder(input_dim=k, num_symbols=2, d_model=64, nhead=8, num_layers=2, dim_feedforward=256, output_dim=n).to(device)\n",
    "#decoder = model_t.TransformerDecoder(input_dim=n, d_model=64, nhead=8, num_layers=1, dim_feedforward=256, output_dim=k).to(device)"
   ]
  },
  {
   "cell_type": "markdown",
   "id": "e6c1c4ed-b278-46a6-8b27-10d1ce6b015f",
   "metadata": {},
   "source": [
    "## Product AE\n",
    "\n",
    "Implementation of the product AE paper. The code is (K_1 x K_2, N_1 x N_2) long "
   ]
  },
  {
   "cell_type": "code",
   "execution_count": 7,
   "id": "17093359-aead-4078-bb7d-181fc097a2cb",
   "metadata": {},
   "outputs": [],
   "source": [
    "# Encoding parameters\n",
    "#K = [8, 8]\n",
    "#N = [8, 16]\n",
    "\n",
    "#rate = (K[0]/N[0])*(K[1]/N[1])\n",
    "#I = 4\n",
    "\n",
    "#encoder = model_prodAE.ProductAEEncoder(K, N).to(device)\n",
    "#decoder = model_prodAE.ProdDecoder(I, K, N).to(device)"
   ]
  },
  {
   "cell_type": "markdown",
   "id": "cd12c846-9870-4a2a-b728-2cd8b2b4bf60",
   "metadata": {},
   "source": [
    "## Load Checkpoints if necessary"
   ]
  },
  {
   "cell_type": "code",
   "execution_count": 8,
   "id": "0b96ddc1-1046-4979-9dec-212ae6a3ce43",
   "metadata": {},
   "outputs": [
    {
     "data": {
      "text/plain": [
       "<All keys matched successfully>"
      ]
     },
     "execution_count": 8,
     "metadata": {},
     "output_type": "execute_result"
    }
   ],
   "source": [
    "#checkpoint = torch.load('./data/Binary_run_x.pth')\n",
    "#encoder.load_state_dict(checkpoint['encoder_state_dict'])\n",
    "#decoder.load_state_dict(checkpoint['decoder_state_dict'])"
   ]
  },
  {
   "cell_type": "code",
   "execution_count": 9,
   "id": "d58c10c6-1688-48e0-9ef7-393d403f23ff",
   "metadata": {
    "collapsed": true,
    "jupyter": {
     "outputs_hidden": true
    },
    "tags": []
   },
   "outputs": [
    {
     "name": "stdout",
     "output_type": "stream",
     "text": [
      "ENC_CNNTurbo(\n",
      "  (interleaver): Interleaver()\n",
      "  (enc_cnn_1): Sequential(\n",
      "    (0): ModuleLambda()\n",
      "    (1): Conv1d(1, 100, kernel_size=(25,), stride=(1,), padding=(12,))\n",
      "    (2): LayerNorm((100, 100), eps=1e-05, elementwise_affine=True)\n",
      "    (3): ModuleLambda()\n",
      "    (4): Conv1d(100, 100, kernel_size=(25,), stride=(1,), padding=(12,))\n",
      "    (5): LayerNorm((100, 100), eps=1e-05, elementwise_affine=True)\n",
      "    (6): ModuleLambda()\n",
      "    (7): ModuleLambda()\n",
      "  )\n",
      "  (enc_cnn_2): Sequential(\n",
      "    (0): ModuleLambda()\n",
      "    (1): Conv1d(1, 100, kernel_size=(25,), stride=(1,), padding=(12,))\n",
      "    (2): LayerNorm((100, 100), eps=1e-05, elementwise_affine=True)\n",
      "    (3): ModuleLambda()\n",
      "    (4): Conv1d(100, 100, kernel_size=(25,), stride=(1,), padding=(12,))\n",
      "    (5): LayerNorm((100, 100), eps=1e-05, elementwise_affine=True)\n",
      "    (6): ModuleLambda()\n",
      "    (7): ModuleLambda()\n",
      "  )\n",
      "  (enc_linear_1): Linear(in_features=100, out_features=1, bias=True)\n",
      "  (enc_linear_2): Linear(in_features=100, out_features=1, bias=True)\n",
      ")\n",
      "DEC_CNNTurbo(\n",
      "  (interleaver): Interleaver()\n",
      "  (dec1_cnns): ModuleList(\n",
      "    (0-5): 6 x Sequential(\n",
      "      (0): ModuleLambda()\n",
      "      (1): Conv1d(7, 100, kernel_size=(25,), stride=(1,), padding=(12,))\n",
      "      (2): LayerNorm((100, 100), eps=1e-05, elementwise_affine=True)\n",
      "      (3): ModuleLambda()\n",
      "      (4): Conv1d(100, 100, kernel_size=(25,), stride=(1,), padding=(12,))\n",
      "      (5): LayerNorm((100, 100), eps=1e-05, elementwise_affine=True)\n",
      "      (6): ModuleLambda()\n",
      "      (7): Conv1d(100, 100, kernel_size=(25,), stride=(1,), padding=(12,))\n",
      "      (8): LayerNorm((100, 100), eps=1e-05, elementwise_affine=True)\n",
      "      (9): ModuleLambda()\n",
      "      (10): Conv1d(100, 100, kernel_size=(25,), stride=(1,), padding=(12,))\n",
      "      (11): LayerNorm((100, 100), eps=1e-05, elementwise_affine=True)\n",
      "      (12): ModuleLambda()\n",
      "      (13): Conv1d(100, 100, kernel_size=(25,), stride=(1,), padding=(12,))\n",
      "      (14): LayerNorm((100, 100), eps=1e-05, elementwise_affine=True)\n",
      "      (15): ModuleLambda()\n",
      "      (16): ModuleLambda()\n",
      "    )\n",
      "  )\n",
      "  (dec2_cnns): ModuleList(\n",
      "    (0-5): 6 x Sequential(\n",
      "      (0): ModuleLambda()\n",
      "      (1): Conv1d(7, 100, kernel_size=(25,), stride=(1,), padding=(12,))\n",
      "      (2): LayerNorm((100, 100), eps=1e-05, elementwise_affine=True)\n",
      "      (3): ModuleLambda()\n",
      "      (4): Conv1d(100, 100, kernel_size=(25,), stride=(1,), padding=(12,))\n",
      "      (5): LayerNorm((100, 100), eps=1e-05, elementwise_affine=True)\n",
      "      (6): ModuleLambda()\n",
      "      (7): Conv1d(100, 100, kernel_size=(25,), stride=(1,), padding=(12,))\n",
      "      (8): LayerNorm((100, 100), eps=1e-05, elementwise_affine=True)\n",
      "      (9): ModuleLambda()\n",
      "      (10): Conv1d(100, 100, kernel_size=(25,), stride=(1,), padding=(12,))\n",
      "      (11): LayerNorm((100, 100), eps=1e-05, elementwise_affine=True)\n",
      "      (12): ModuleLambda()\n",
      "      (13): Conv1d(100, 100, kernel_size=(25,), stride=(1,), padding=(12,))\n",
      "      (14): LayerNorm((100, 100), eps=1e-05, elementwise_affine=True)\n",
      "      (15): ModuleLambda()\n",
      "      (16): ModuleLambda()\n",
      "    )\n",
      "  )\n",
      "  (dec1_outputs): ModuleList(\n",
      "    (0-5): 6 x Linear(in_features=100, out_features=5, bias=True)\n",
      "  )\n",
      "  (dec2_outputs): ModuleList(\n",
      "    (0-4): 5 x Linear(in_features=100, out_features=5, bias=True)\n",
      "    (5): Linear(in_features=100, out_features=1, bias=True)\n",
      "  )\n",
      ")\n",
      "parameters:  14007258\n",
      "trainable:  14007258\n"
     ]
    },
    {
     "data": {
      "application/vnd.jupyter.widget-view+json": {
       "model_id": "f2b00014ccb04849b222bb46b87fc76c",
       "version_major": 2,
       "version_minor": 0
      },
      "text/plain": [
       "  0%|          | 0/100 [00:00<?, ?it/s]"
      ]
     },
     "metadata": {},
     "output_type": "display_data"
    },
    {
     "data": {
      "application/vnd.jupyter.widget-view+json": {
       "model_id": "063dbd22407a49a3b7e811b440dd7f81",
       "version_major": 2,
       "version_minor": 0
      },
      "text/plain": [
       "  0%|          | 0/100 [00:00<?, ?it/s]"
      ]
     },
     "metadata": {},
     "output_type": "display_data"
    },
    {
     "data": {
      "application/vnd.jupyter.widget-view+json": {
       "model_id": "b41efbc319644e57b96b44b854c7f9cc",
       "version_major": 2,
       "version_minor": 0
      },
      "text/plain": [
       "  0%|          | 0/100 [00:00<?, ?it/s]"
      ]
     },
     "metadata": {},
     "output_type": "display_data"
    },
    {
     "data": {
      "application/vnd.jupyter.widget-view+json": {
       "model_id": "f6b8d86acd184769a1f7863fafc7acf3",
       "version_major": 2,
       "version_minor": 0
      },
      "text/plain": [
       "  0%|          | 0/100 [00:00<?, ?it/s]"
      ]
     },
     "metadata": {},
     "output_type": "display_data"
    },
    {
     "data": {
      "application/vnd.jupyter.widget-view+json": {
       "model_id": "ab85e067efb74ecdbcdc97e549082186",
       "version_major": 2,
       "version_minor": 0
      },
      "text/plain": [
       "  0%|          | 0/100 [00:00<?, ?it/s]"
      ]
     },
     "metadata": {},
     "output_type": "display_data"
    },
    {
     "data": {
      "application/vnd.jupyter.widget-view+json": {
       "model_id": "ccef636b0bfb463aba617f1901199f99",
       "version_major": 2,
       "version_minor": 0
      },
      "text/plain": [
       "  0%|          | 0/100 [00:00<?, ?it/s]"
      ]
     },
     "metadata": {},
     "output_type": "display_data"
    },
    {
     "name": "stdout",
     "output_type": "stream",
     "text": [
      "------------------\n",
      "(Validation) : loss 1.156e-01 BER 3.990e-02 SER 9.828e-01\n",
      "------------------\n"
     ]
    },
    {
     "data": {
      "application/vnd.jupyter.widget-view+json": {
       "model_id": "757081810f4742b5ac1ba075ebaeca6a",
       "version_major": 2,
       "version_minor": 0
      },
      "text/plain": [
       "  0%|          | 0/100 [00:00<?, ?it/s]"
      ]
     },
     "metadata": {},
     "output_type": "display_data"
    },
    {
     "data": {
      "application/vnd.jupyter.widget-view+json": {
       "model_id": "cc7619bc404648959c690a8e8741c310",
       "version_major": 2,
       "version_minor": 0
      },
      "text/plain": [
       "  0%|          | 0/100 [00:00<?, ?it/s]"
      ]
     },
     "metadata": {},
     "output_type": "display_data"
    },
    {
     "data": {
      "application/vnd.jupyter.widget-view+json": {
       "model_id": "db315f9276ce4686bdfb676d9ca4b3f7",
       "version_major": 2,
       "version_minor": 0
      },
      "text/plain": [
       "  0%|          | 0/100 [00:00<?, ?it/s]"
      ]
     },
     "metadata": {},
     "output_type": "display_data"
    },
    {
     "data": {
      "application/vnd.jupyter.widget-view+json": {
       "model_id": "44d5bd9c90ad41c5af1ee95ef3866887",
       "version_major": 2,
       "version_minor": 0
      },
      "text/plain": [
       "  0%|          | 0/100 [00:00<?, ?it/s]"
      ]
     },
     "metadata": {},
     "output_type": "display_data"
    },
    {
     "data": {
      "application/vnd.jupyter.widget-view+json": {
       "model_id": "73cfda5c39cc49ddaa46d1daaba7f854",
       "version_major": 2,
       "version_minor": 0
      },
      "text/plain": [
       "  0%|          | 0/100 [00:00<?, ?it/s]"
      ]
     },
     "metadata": {},
     "output_type": "display_data"
    },
    {
     "data": {
      "application/vnd.jupyter.widget-view+json": {
       "model_id": "4b030a719349431b9255f69a3644fc17",
       "version_major": 2,
       "version_minor": 0
      },
      "text/plain": [
       "  0%|          | 0/100 [00:00<?, ?it/s]"
      ]
     },
     "metadata": {},
     "output_type": "display_data"
    },
    {
     "name": "stdout",
     "output_type": "stream",
     "text": [
      "------------------\n",
      "(Validation) : loss 1.127e-01 BER 3.963e-02 SER 9.824e-01\n",
      "------------------\n"
     ]
    },
    {
     "data": {
      "application/vnd.jupyter.widget-view+json": {
       "model_id": "bec70e8756a14fe682af93ad93e13657",
       "version_major": 2,
       "version_minor": 0
      },
      "text/plain": [
       "  0%|          | 0/100 [00:00<?, ?it/s]"
      ]
     },
     "metadata": {},
     "output_type": "display_data"
    },
    {
     "data": {
      "application/vnd.jupyter.widget-view+json": {
       "model_id": "9a09cb75e23f4aa2a9c114d06c681bee",
       "version_major": 2,
       "version_minor": 0
      },
      "text/plain": [
       "  0%|          | 0/100 [00:00<?, ?it/s]"
      ]
     },
     "metadata": {},
     "output_type": "display_data"
    },
    {
     "data": {
      "application/vnd.jupyter.widget-view+json": {
       "model_id": "d56332d071c9422ba7f736bbcd313ca0",
       "version_major": 2,
       "version_minor": 0
      },
      "text/plain": [
       "  0%|          | 0/100 [00:00<?, ?it/s]"
      ]
     },
     "metadata": {},
     "output_type": "display_data"
    },
    {
     "data": {
      "application/vnd.jupyter.widget-view+json": {
       "model_id": "ed095af889f44a89ae43f7e88b6d52b1",
       "version_major": 2,
       "version_minor": 0
      },
      "text/plain": [
       "  0%|          | 0/100 [00:00<?, ?it/s]"
      ]
     },
     "metadata": {},
     "output_type": "display_data"
    },
    {
     "data": {
      "application/vnd.jupyter.widget-view+json": {
       "model_id": "a9360dc51285489b9593123d93d78c7c",
       "version_major": 2,
       "version_minor": 0
      },
      "text/plain": [
       "  0%|          | 0/100 [00:00<?, ?it/s]"
      ]
     },
     "metadata": {},
     "output_type": "display_data"
    },
    {
     "data": {
      "application/vnd.jupyter.widget-view+json": {
       "model_id": "5fe1dee3c553413f85cfd5b1bf263b7c",
       "version_major": 2,
       "version_minor": 0
      },
      "text/plain": [
       "  0%|          | 0/100 [00:00<?, ?it/s]"
      ]
     },
     "metadata": {},
     "output_type": "display_data"
    },
    {
     "name": "stdout",
     "output_type": "stream",
     "text": [
      "------------------\n",
      "(Validation) : loss 1.139e-01 BER 3.963e-02 SER 9.805e-01\n",
      "------------------\n"
     ]
    },
    {
     "data": {
      "application/vnd.jupyter.widget-view+json": {
       "model_id": "065d43fdeba94c32b746b093374fd668",
       "version_major": 2,
       "version_minor": 0
      },
      "text/plain": [
       "  0%|          | 0/100 [00:00<?, ?it/s]"
      ]
     },
     "metadata": {},
     "output_type": "display_data"
    },
    {
     "data": {
      "application/vnd.jupyter.widget-view+json": {
       "model_id": "6cba72e6a37f4c72b45faf59a178c591",
       "version_major": 2,
       "version_minor": 0
      },
      "text/plain": [
       "  0%|          | 0/100 [00:00<?, ?it/s]"
      ]
     },
     "metadata": {},
     "output_type": "display_data"
    },
    {
     "data": {
      "application/vnd.jupyter.widget-view+json": {
       "model_id": "bda15434f4c2433a958f3a642d5a272f",
       "version_major": 2,
       "version_minor": 0
      },
      "text/plain": [
       "  0%|          | 0/100 [00:00<?, ?it/s]"
      ]
     },
     "metadata": {},
     "output_type": "display_data"
    },
    {
     "data": {
      "application/vnd.jupyter.widget-view+json": {
       "model_id": "58b76ef7be594d6eb8de4d626f29842d",
       "version_major": 2,
       "version_minor": 0
      },
      "text/plain": [
       "  0%|          | 0/100 [00:00<?, ?it/s]"
      ]
     },
     "metadata": {},
     "output_type": "display_data"
    },
    {
     "data": {
      "application/vnd.jupyter.widget-view+json": {
       "model_id": "285dd3453f8c43de9b8795eea0a92b14",
       "version_major": 2,
       "version_minor": 0
      },
      "text/plain": [
       "  0%|          | 0/100 [00:00<?, ?it/s]"
      ]
     },
     "metadata": {},
     "output_type": "display_data"
    },
    {
     "data": {
      "application/vnd.jupyter.widget-view+json": {
       "model_id": "a3d2ec0edfee43b285e7e12f2829370d",
       "version_major": 2,
       "version_minor": 0
      },
      "text/plain": [
       "  0%|          | 0/100 [00:00<?, ?it/s]"
      ]
     },
     "metadata": {},
     "output_type": "display_data"
    },
    {
     "name": "stdout",
     "output_type": "stream",
     "text": [
      "------------------\n",
      "(Validation) : loss 1.145e-01 BER 3.948e-02 SER 9.815e-01\n",
      "------------------\n"
     ]
    },
    {
     "data": {
      "application/vnd.jupyter.widget-view+json": {
       "model_id": "1d69bc95b5724393a00878be4f9c41d9",
       "version_major": 2,
       "version_minor": 0
      },
      "text/plain": [
       "  0%|          | 0/100 [00:00<?, ?it/s]"
      ]
     },
     "metadata": {},
     "output_type": "display_data"
    },
    {
     "data": {
      "application/vnd.jupyter.widget-view+json": {
       "model_id": "c9998532bc9640c3b24b52919410cea4",
       "version_major": 2,
       "version_minor": 0
      },
      "text/plain": [
       "  0%|          | 0/100 [00:00<?, ?it/s]"
      ]
     },
     "metadata": {},
     "output_type": "display_data"
    },
    {
     "data": {
      "application/vnd.jupyter.widget-view+json": {
       "model_id": "b93aad8611094267a7712752708f10ea",
       "version_major": 2,
       "version_minor": 0
      },
      "text/plain": [
       "  0%|          | 0/100 [00:00<?, ?it/s]"
      ]
     },
     "metadata": {},
     "output_type": "display_data"
    },
    {
     "data": {
      "application/vnd.jupyter.widget-view+json": {
       "model_id": "4d84284273bb45c78884f9b6c4bb922b",
       "version_major": 2,
       "version_minor": 0
      },
      "text/plain": [
       "  0%|          | 0/100 [00:00<?, ?it/s]"
      ]
     },
     "metadata": {},
     "output_type": "display_data"
    },
    {
     "data": {
      "application/vnd.jupyter.widget-view+json": {
       "model_id": "e3d01a2e64a540c9a35ca8c3441acff4",
       "version_major": 2,
       "version_minor": 0
      },
      "text/plain": [
       "  0%|          | 0/100 [00:00<?, ?it/s]"
      ]
     },
     "metadata": {},
     "output_type": "display_data"
    },
    {
     "data": {
      "application/vnd.jupyter.widget-view+json": {
       "model_id": "ff9f318d3c1047fbbf2b839271d98617",
       "version_major": 2,
       "version_minor": 0
      },
      "text/plain": [
       "  0%|          | 0/100 [00:00<?, ?it/s]"
      ]
     },
     "metadata": {},
     "output_type": "display_data"
    },
    {
     "name": "stdout",
     "output_type": "stream",
     "text": [
      "------------------\n",
      "(Validation) : loss 1.120e-01 BER 3.920e-02 SER 9.822e-01\n",
      "------------------\n"
     ]
    },
    {
     "data": {
      "application/vnd.jupyter.widget-view+json": {
       "model_id": "9cd84396ead74d6ca584227880ebb639",
       "version_major": 2,
       "version_minor": 0
      },
      "text/plain": [
       "  0%|          | 0/100 [00:00<?, ?it/s]"
      ]
     },
     "metadata": {},
     "output_type": "display_data"
    },
    {
     "data": {
      "application/vnd.jupyter.widget-view+json": {
       "model_id": "78a77d369daf4caea5d765b0f7385196",
       "version_major": 2,
       "version_minor": 0
      },
      "text/plain": [
       "  0%|          | 0/100 [00:00<?, ?it/s]"
      ]
     },
     "metadata": {},
     "output_type": "display_data"
    },
    {
     "data": {
      "application/vnd.jupyter.widget-view+json": {
       "model_id": "aa84b75f084c44b38c4dcf2d3d6266cd",
       "version_major": 2,
       "version_minor": 0
      },
      "text/plain": [
       "  0%|          | 0/100 [00:00<?, ?it/s]"
      ]
     },
     "metadata": {},
     "output_type": "display_data"
    },
    {
     "data": {
      "application/vnd.jupyter.widget-view+json": {
       "model_id": "283e50692a25444398ccac78bd85a015",
       "version_major": 2,
       "version_minor": 0
      },
      "text/plain": [
       "  0%|          | 0/100 [00:00<?, ?it/s]"
      ]
     },
     "metadata": {},
     "output_type": "display_data"
    },
    {
     "data": {
      "application/vnd.jupyter.widget-view+json": {
       "model_id": "276ce9f1a80b4c3a9b99321f28c9cb65",
       "version_major": 2,
       "version_minor": 0
      },
      "text/plain": [
       "  0%|          | 0/100 [00:00<?, ?it/s]"
      ]
     },
     "metadata": {},
     "output_type": "display_data"
    },
    {
     "data": {
      "application/vnd.jupyter.widget-view+json": {
       "model_id": "892efd262c824bd69a2dc2b7ddf65f52",
       "version_major": 2,
       "version_minor": 0
      },
      "text/plain": [
       "  0%|          | 0/100 [00:00<?, ?it/s]"
      ]
     },
     "metadata": {},
     "output_type": "display_data"
    },
    {
     "name": "stdout",
     "output_type": "stream",
     "text": [
      "------------------\n",
      "(Validation) : loss 1.140e-01 BER 3.906e-02 SER 9.805e-01\n",
      "------------------\n"
     ]
    },
    {
     "data": {
      "application/vnd.jupyter.widget-view+json": {
       "model_id": "52a1a6fcb7794a89b6ef4b346c9e2a69",
       "version_major": 2,
       "version_minor": 0
      },
      "text/plain": [
       "  0%|          | 0/100 [00:00<?, ?it/s]"
      ]
     },
     "metadata": {},
     "output_type": "display_data"
    },
    {
     "data": {
      "application/vnd.jupyter.widget-view+json": {
       "model_id": "549c284c868541188f62aaf6a5fedb30",
       "version_major": 2,
       "version_minor": 0
      },
      "text/plain": [
       "  0%|          | 0/100 [00:00<?, ?it/s]"
      ]
     },
     "metadata": {},
     "output_type": "display_data"
    },
    {
     "data": {
      "application/vnd.jupyter.widget-view+json": {
       "model_id": "e105a176b4654127bbe004c85b4a8a9a",
       "version_major": 2,
       "version_minor": 0
      },
      "text/plain": [
       "  0%|          | 0/100 [00:00<?, ?it/s]"
      ]
     },
     "metadata": {},
     "output_type": "display_data"
    },
    {
     "data": {
      "application/vnd.jupyter.widget-view+json": {
       "model_id": "7a443e4187e84642b589984bc3f5259e",
       "version_major": 2,
       "version_minor": 0
      },
      "text/plain": [
       "  0%|          | 0/100 [00:00<?, ?it/s]"
      ]
     },
     "metadata": {},
     "output_type": "display_data"
    },
    {
     "data": {
      "application/vnd.jupyter.widget-view+json": {
       "model_id": "d14c8a137ddd4e9787ae9a5598c29db5",
       "version_major": 2,
       "version_minor": 0
      },
      "text/plain": [
       "  0%|          | 0/100 [00:00<?, ?it/s]"
      ]
     },
     "metadata": {},
     "output_type": "display_data"
    },
    {
     "data": {
      "application/vnd.jupyter.widget-view+json": {
       "model_id": "34a68cb26916437eb1bffd566197e375",
       "version_major": 2,
       "version_minor": 0
      },
      "text/plain": [
       "  0%|          | 0/100 [00:00<?, ?it/s]"
      ]
     },
     "metadata": {},
     "output_type": "display_data"
    },
    {
     "name": "stdout",
     "output_type": "stream",
     "text": [
      "------------------\n",
      "(Validation) : loss 1.125e-01 BER 3.893e-02 SER 9.809e-01\n",
      "------------------\n"
     ]
    },
    {
     "data": {
      "application/vnd.jupyter.widget-view+json": {
       "model_id": "85d0f8cafd3842f3834a722b3fb683e3",
       "version_major": 2,
       "version_minor": 0
      },
      "text/plain": [
       "  0%|          | 0/100 [00:00<?, ?it/s]"
      ]
     },
     "metadata": {},
     "output_type": "display_data"
    },
    {
     "data": {
      "application/vnd.jupyter.widget-view+json": {
       "model_id": "5c49ed43dca74b449856967c5022e52f",
       "version_major": 2,
       "version_minor": 0
      },
      "text/plain": [
       "  0%|          | 0/100 [00:00<?, ?it/s]"
      ]
     },
     "metadata": {},
     "output_type": "display_data"
    },
    {
     "data": {
      "application/vnd.jupyter.widget-view+json": {
       "model_id": "f6e1b3a9c9d443cab242583ec154fe9c",
       "version_major": 2,
       "version_minor": 0
      },
      "text/plain": [
       "  0%|          | 0/100 [00:00<?, ?it/s]"
      ]
     },
     "metadata": {},
     "output_type": "display_data"
    },
    {
     "data": {
      "application/vnd.jupyter.widget-view+json": {
       "model_id": "b881ac6863174de7adfb4e47d01c7a6c",
       "version_major": 2,
       "version_minor": 0
      },
      "text/plain": [
       "  0%|          | 0/100 [00:00<?, ?it/s]"
      ]
     },
     "metadata": {},
     "output_type": "display_data"
    },
    {
     "data": {
      "application/vnd.jupyter.widget-view+json": {
       "model_id": "6910512287944244b06eeede2a93cba8",
       "version_major": 2,
       "version_minor": 0
      },
      "text/plain": [
       "  0%|          | 0/100 [00:00<?, ?it/s]"
      ]
     },
     "metadata": {},
     "output_type": "display_data"
    },
    {
     "data": {
      "application/vnd.jupyter.widget-view+json": {
       "model_id": "a7adbe3a54724bdab82c076e4fae2378",
       "version_major": 2,
       "version_minor": 0
      },
      "text/plain": [
       "  0%|          | 0/100 [00:00<?, ?it/s]"
      ]
     },
     "metadata": {},
     "output_type": "display_data"
    },
    {
     "name": "stdout",
     "output_type": "stream",
     "text": [
      "------------------\n",
      "(Validation) : loss 1.132e-01 BER 3.901e-02 SER 9.808e-01\n",
      "------------------\n"
     ]
    },
    {
     "data": {
      "application/vnd.jupyter.widget-view+json": {
       "model_id": "747a5d3548b545198d36bbbd284c6d0c",
       "version_major": 2,
       "version_minor": 0
      },
      "text/plain": [
       "  0%|          | 0/100 [00:00<?, ?it/s]"
      ]
     },
     "metadata": {},
     "output_type": "display_data"
    },
    {
     "data": {
      "application/vnd.jupyter.widget-view+json": {
       "model_id": "d64a5a2b1d424f7bb69b13d8464319ce",
       "version_major": 2,
       "version_minor": 0
      },
      "text/plain": [
       "  0%|          | 0/100 [00:00<?, ?it/s]"
      ]
     },
     "metadata": {},
     "output_type": "display_data"
    },
    {
     "data": {
      "application/vnd.jupyter.widget-view+json": {
       "model_id": "d629baab7e294f32bcac04192e4d7946",
       "version_major": 2,
       "version_minor": 0
      },
      "text/plain": [
       "  0%|          | 0/100 [00:00<?, ?it/s]"
      ]
     },
     "metadata": {},
     "output_type": "display_data"
    },
    {
     "data": {
      "application/vnd.jupyter.widget-view+json": {
       "model_id": "dbaf214047394b04acfd7f1cd6d2f283",
       "version_major": 2,
       "version_minor": 0
      },
      "text/plain": [
       "  0%|          | 0/100 [00:00<?, ?it/s]"
      ]
     },
     "metadata": {},
     "output_type": "display_data"
    },
    {
     "data": {
      "application/vnd.jupyter.widget-view+json": {
       "model_id": "9ad78f53082f4d4bb0a287c273b331f8",
       "version_major": 2,
       "version_minor": 0
      },
      "text/plain": [
       "  0%|          | 0/100 [00:00<?, ?it/s]"
      ]
     },
     "metadata": {},
     "output_type": "display_data"
    },
    {
     "data": {
      "application/vnd.jupyter.widget-view+json": {
       "model_id": "62e4a384ad4e41f2924420af216b4253",
       "version_major": 2,
       "version_minor": 0
      },
      "text/plain": [
       "  0%|          | 0/100 [00:00<?, ?it/s]"
      ]
     },
     "metadata": {},
     "output_type": "display_data"
    },
    {
     "name": "stdout",
     "output_type": "stream",
     "text": [
      "------------------\n",
      "(Validation) : loss 1.121e-01 BER 3.886e-02 SER 9.803e-01\n",
      "------------------\n"
     ]
    },
    {
     "data": {
      "application/vnd.jupyter.widget-view+json": {
       "model_id": "06086018106344189d42a492c97b26a9",
       "version_major": 2,
       "version_minor": 0
      },
      "text/plain": [
       "  0%|          | 0/100 [00:00<?, ?it/s]"
      ]
     },
     "metadata": {},
     "output_type": "display_data"
    },
    {
     "data": {
      "application/vnd.jupyter.widget-view+json": {
       "model_id": "437eae661bbc400c80ede80d193febf8",
       "version_major": 2,
       "version_minor": 0
      },
      "text/plain": [
       "  0%|          | 0/100 [00:00<?, ?it/s]"
      ]
     },
     "metadata": {},
     "output_type": "display_data"
    },
    {
     "data": {
      "application/vnd.jupyter.widget-view+json": {
       "model_id": "d6c3d2c880114b35b9a18b452ea31145",
       "version_major": 2,
       "version_minor": 0
      },
      "text/plain": [
       "  0%|          | 0/100 [00:00<?, ?it/s]"
      ]
     },
     "metadata": {},
     "output_type": "display_data"
    },
    {
     "data": {
      "application/vnd.jupyter.widget-view+json": {
       "model_id": "a22354a573a74ed897b2c5758373b1ed",
       "version_major": 2,
       "version_minor": 0
      },
      "text/plain": [
       "  0%|          | 0/100 [00:00<?, ?it/s]"
      ]
     },
     "metadata": {},
     "output_type": "display_data"
    },
    {
     "data": {
      "application/vnd.jupyter.widget-view+json": {
       "model_id": "254ca0e866e74cfc9fd34454b686cb53",
       "version_major": 2,
       "version_minor": 0
      },
      "text/plain": [
       "  0%|          | 0/100 [00:00<?, ?it/s]"
      ]
     },
     "metadata": {},
     "output_type": "display_data"
    },
    {
     "data": {
      "application/vnd.jupyter.widget-view+json": {
       "model_id": "8401b01ffd9b45a789a02a24600be548",
       "version_major": 2,
       "version_minor": 0
      },
      "text/plain": [
       "  0%|          | 0/100 [00:00<?, ?it/s]"
      ]
     },
     "metadata": {},
     "output_type": "display_data"
    },
    {
     "name": "stdout",
     "output_type": "stream",
     "text": [
      "------------------\n",
      "(Validation) : loss 1.148e-01 BER 3.917e-02 SER 9.799e-01\n",
      "------------------\n"
     ]
    },
    {
     "data": {
      "application/vnd.jupyter.widget-view+json": {
       "model_id": "2545a513ae714e959409f8cddb72655f",
       "version_major": 2,
       "version_minor": 0
      },
      "text/plain": [
       "  0%|          | 0/100 [00:00<?, ?it/s]"
      ]
     },
     "metadata": {},
     "output_type": "display_data"
    },
    {
     "data": {
      "application/vnd.jupyter.widget-view+json": {
       "model_id": "7f270ca8d9d74463a1744281b62e8d75",
       "version_major": 2,
       "version_minor": 0
      },
      "text/plain": [
       "  0%|          | 0/100 [00:00<?, ?it/s]"
      ]
     },
     "metadata": {},
     "output_type": "display_data"
    },
    {
     "data": {
      "application/vnd.jupyter.widget-view+json": {
       "model_id": "373711db98df4bc7afafe3843139982f",
       "version_major": 2,
       "version_minor": 0
      },
      "text/plain": [
       "  0%|          | 0/100 [00:00<?, ?it/s]"
      ]
     },
     "metadata": {},
     "output_type": "display_data"
    },
    {
     "data": {
      "application/vnd.jupyter.widget-view+json": {
       "model_id": "3abc623ccc46469c9d3c3f5c7ce1a9ef",
       "version_major": 2,
       "version_minor": 0
      },
      "text/plain": [
       "  0%|          | 0/100 [00:00<?, ?it/s]"
      ]
     },
     "metadata": {},
     "output_type": "display_data"
    },
    {
     "data": {
      "application/vnd.jupyter.widget-view+json": {
       "model_id": "6092523519d0484eb228410956f99dba",
       "version_major": 2,
       "version_minor": 0
      },
      "text/plain": [
       "  0%|          | 0/100 [00:00<?, ?it/s]"
      ]
     },
     "metadata": {},
     "output_type": "display_data"
    },
    {
     "data": {
      "application/vnd.jupyter.widget-view+json": {
       "model_id": "5524296d154645d6aa8addf7300173a4",
       "version_major": 2,
       "version_minor": 0
      },
      "text/plain": [
       "  0%|          | 0/100 [00:00<?, ?it/s]"
      ]
     },
     "metadata": {},
     "output_type": "display_data"
    },
    {
     "name": "stdout",
     "output_type": "stream",
     "text": [
      "------------------\n",
      "(Validation) : loss 1.137e-01 BER 3.887e-02 SER 9.803e-01\n",
      "------------------\n"
     ]
    },
    {
     "data": {
      "application/vnd.jupyter.widget-view+json": {
       "model_id": "1cdd857db23e42b88472d3c192f46d71",
       "version_major": 2,
       "version_minor": 0
      },
      "text/plain": [
       "  0%|          | 0/100 [00:00<?, ?it/s]"
      ]
     },
     "metadata": {},
     "output_type": "display_data"
    },
    {
     "data": {
      "application/vnd.jupyter.widget-view+json": {
       "model_id": "273e04cd57454f72ac229400943fbfe7",
       "version_major": 2,
       "version_minor": 0
      },
      "text/plain": [
       "  0%|          | 0/100 [00:00<?, ?it/s]"
      ]
     },
     "metadata": {},
     "output_type": "display_data"
    },
    {
     "data": {
      "application/vnd.jupyter.widget-view+json": {
       "model_id": "7d31f06f1b0f40eeac0a34a79c8c2e0b",
       "version_major": 2,
       "version_minor": 0
      },
      "text/plain": [
       "  0%|          | 0/100 [00:00<?, ?it/s]"
      ]
     },
     "metadata": {},
     "output_type": "display_data"
    },
    {
     "data": {
      "application/vnd.jupyter.widget-view+json": {
       "model_id": "c8d572b484d64278b5dfd5ba707251a6",
       "version_major": 2,
       "version_minor": 0
      },
      "text/plain": [
       "  0%|          | 0/100 [00:00<?, ?it/s]"
      ]
     },
     "metadata": {},
     "output_type": "display_data"
    },
    {
     "data": {
      "application/vnd.jupyter.widget-view+json": {
       "model_id": "f42775da2bbe4c56bb1c899edc574d83",
       "version_major": 2,
       "version_minor": 0
      },
      "text/plain": [
       "  0%|          | 0/100 [00:00<?, ?it/s]"
      ]
     },
     "metadata": {},
     "output_type": "display_data"
    },
    {
     "data": {
      "application/vnd.jupyter.widget-view+json": {
       "model_id": "8b03c01d868048be90f4b7fa0a1a919d",
       "version_major": 2,
       "version_minor": 0
      },
      "text/plain": [
       "  0%|          | 0/100 [00:00<?, ?it/s]"
      ]
     },
     "metadata": {},
     "output_type": "display_data"
    },
    {
     "name": "stdout",
     "output_type": "stream",
     "text": [
      "------------------\n",
      "(Validation) : loss 1.125e-01 BER 3.891e-02 SER 9.803e-01\n",
      "------------------\n"
     ]
    },
    {
     "data": {
      "application/vnd.jupyter.widget-view+json": {
       "model_id": "fd0189fb069d43bfa2e372c445db1e2a",
       "version_major": 2,
       "version_minor": 0
      },
      "text/plain": [
       "  0%|          | 0/100 [00:00<?, ?it/s]"
      ]
     },
     "metadata": {},
     "output_type": "display_data"
    },
    {
     "data": {
      "application/vnd.jupyter.widget-view+json": {
       "model_id": "f3e76412c89441bdabaf3aeec4dc7111",
       "version_major": 2,
       "version_minor": 0
      },
      "text/plain": [
       "  0%|          | 0/100 [00:00<?, ?it/s]"
      ]
     },
     "metadata": {},
     "output_type": "display_data"
    },
    {
     "data": {
      "application/vnd.jupyter.widget-view+json": {
       "model_id": "8f3bcf1a806345908cf2b11ce54392cf",
       "version_major": 2,
       "version_minor": 0
      },
      "text/plain": [
       "  0%|          | 0/100 [00:00<?, ?it/s]"
      ]
     },
     "metadata": {},
     "output_type": "display_data"
    },
    {
     "data": {
      "application/vnd.jupyter.widget-view+json": {
       "model_id": "bf519956f952444695a5d66814fe7143",
       "version_major": 2,
       "version_minor": 0
      },
      "text/plain": [
       "  0%|          | 0/100 [00:00<?, ?it/s]"
      ]
     },
     "metadata": {},
     "output_type": "display_data"
    },
    {
     "ename": "KeyboardInterrupt",
     "evalue": "",
     "output_type": "error",
     "traceback": [
      "\u001b[1;31m---------------------------------------------------------------------------\u001b[0m",
      "\u001b[1;31mKeyboardInterrupt\u001b[0m                         Traceback (most recent call last)",
      "Cell \u001b[1;32mIn[9], line 19\u001b[0m\n\u001b[0;32m     17\u001b[0m conf \u001b[38;5;241m=\u001b[39m trainer\u001b[38;5;241m.\u001b[39mTrainerConfig(max_epochs\u001b[38;5;241m=\u001b[39m\u001b[38;5;241m300\u001b[39m, noise_std \u001b[38;5;241m=\u001b[39m noise_std, training_snr \u001b[38;5;241m=\u001b[39m TRAINING_SNR, rate\u001b[38;5;241m=\u001b[39mrate, path\u001b[38;5;241m=\u001b[39mpath, batchsize\u001b[38;5;241m=\u001b[39mbs, coderate\u001b[38;5;241m=\u001b[39mk, learning_rate\u001b[38;5;241m=\u001b[39m\u001b[38;5;241m1e-4\u001b[39m, iterations\u001b[38;5;241m=\u001b[39mit, optimizer\u001b[38;5;241m=\u001b[39m\u001b[38;5;124m'\u001b[39m\u001b[38;5;124mAdam\u001b[39m\u001b[38;5;124m'\u001b[39m)\n\u001b[0;32m     18\u001b[0m t \u001b[38;5;241m=\u001b[39m trainer\u001b[38;5;241m.\u001b[39mTrainer(encoder, decoder, channel, conf)\n\u001b[1;32m---> 19\u001b[0m train_loss \u001b[38;5;241m=\u001b[39m \u001b[43mt\u001b[49m\u001b[38;5;241;43m.\u001b[39;49m\u001b[43mtrain_alternate\u001b[49m\u001b[43m(\u001b[49m\u001b[43m)\u001b[49m\n\u001b[0;32m     20\u001b[0m \u001b[38;5;66;03m#train_loss = t.train()\u001b[39;00m\n\u001b[0;32m     21\u001b[0m \u001b[38;5;66;03m#conf = trainer.TrainerConfig(max_epochs=10, noise_std = noise_std, training_snr = TRAINING_SNR, rate=rate, path=path, batchsize=bs, coderate=k, learning_rate=5e-1, iterations=it)\u001b[39;00m\n\u001b[0;32m     22\u001b[0m \u001b[38;5;66;03m#t = trainer.Trainer(encoder, decoder, channel, conf)\u001b[39;00m\n\u001b[0;32m     23\u001b[0m \u001b[38;5;66;03m#train_loss = t.train_alternate()\u001b[39;00m\n\u001b[0;32m     24\u001b[0m \u001b[38;5;66;03m#train_loss = t.train()\u001b[39;00m\n\u001b[0;32m     27\u001b[0m path_loss \u001b[38;5;241m=\u001b[39m \u001b[38;5;124mf\u001b[39m\u001b[38;5;124m\"\u001b[39m\u001b[38;5;132;01m{\u001b[39;00mfolder_path\u001b[38;5;132;01m}\u001b[39;00m\u001b[38;5;124mtrain_loss_\u001b[39m\u001b[38;5;132;01m{\u001b[39;00mformatted_date\u001b[38;5;132;01m}\u001b[39;00m\u001b[38;5;124m.pth\u001b[39m\u001b[38;5;124m\"\u001b[39m\n",
      "File \u001b[1;32m~\\Documents\\GitHub\\wireless-binary-AE\\trainer.py:177\u001b[0m, in \u001b[0;36mTrainer.train_alternate\u001b[1;34m(self)\u001b[0m\n\u001b[0;32m    172\u001b[0m     \u001b[38;5;28;01mreturn\u001b[39;00m loss_val\u001b[38;5;66;03m#, (grad_norms, grad_norms2, weight_norms, weight_norms2)\u001b[39;00m\n\u001b[0;32m    175\u001b[0m \u001b[38;5;28;01mfor\u001b[39;00m epoch \u001b[38;5;129;01min\u001b[39;00m \u001b[38;5;28mrange\u001b[39m(config\u001b[38;5;241m.\u001b[39mmax_epochs):\n\u001b[1;32m--> 177\u001b[0m     loss_tot \u001b[38;5;241m=\u001b[39m \u001b[43mrun_epoch\u001b[49m\u001b[43m(\u001b[49m\u001b[43m)\u001b[49m\n\u001b[0;32m    178\u001b[0m     loss_tot_avg \u001b[38;5;241m=\u001b[39m np\u001b[38;5;241m.\u001b[39mmean(loss_tot)\n\u001b[0;32m    179\u001b[0m     loss_epoch\u001b[38;5;241m.\u001b[39mappend(loss_tot_avg)\n",
      "File \u001b[1;32m~\\Documents\\GitHub\\wireless-binary-AE\\trainer.py:167\u001b[0m, in \u001b[0;36mTrainer.train_alternate.<locals>.run_epoch\u001b[1;34m()\u001b[0m\n\u001b[0;32m    165\u001b[0m \u001b[38;5;28;01mfor\u001b[39;00m _ \u001b[38;5;129;01min\u001b[39;00m \u001b[38;5;28mrange\u001b[39m(dec_its):\n\u001b[0;32m    166\u001b[0m     \u001b[38;5;28;01mfor\u001b[39;00m i \u001b[38;5;129;01min\u001b[39;00m (pbar \u001b[38;5;241m:=\u001b[39m tqdm(\u001b[38;5;28mrange\u001b[39m(config\u001b[38;5;241m.\u001b[39miterations))):\n\u001b[1;32m--> 167\u001b[0m         \u001b[43mtrain_\u001b[49m\u001b[43m(\u001b[49m\u001b[43mdecoder_optimizer\u001b[49m\u001b[38;5;241;43m=\u001b[39;49m\u001b[43mdecoder_optimizer\u001b[49m\u001b[43m)\u001b[49m\n\u001b[0;32m    168\u001b[0m         pbar\u001b[38;5;241m.\u001b[39mset_description(\u001b[38;5;124mf\u001b[39m\u001b[38;5;124m\"\u001b[39m\u001b[38;5;124mepoch \u001b[39m\u001b[38;5;132;01m{\u001b[39;00mepoch\u001b[38;5;241m+\u001b[39m\u001b[38;5;241m1\u001b[39m\u001b[38;5;132;01m}\u001b[39;00m\u001b[38;5;124m (Decoder \u001b[39m\u001b[38;5;132;01m{\u001b[39;00m_\u001b[38;5;241m+\u001b[39m\u001b[38;5;241m1\u001b[39m\u001b[38;5;132;01m}\u001b[39;00m\u001b[38;5;124m/\u001b[39m\u001b[38;5;132;01m{\u001b[39;00mdec_its\u001b[38;5;132;01m}\u001b[39;00m\u001b[38;5;124m) : loss \u001b[39m\u001b[38;5;132;01m{\u001b[39;00mnp\u001b[38;5;241m.\u001b[39mmean(loss_tot[\u001b[38;5;241m-\u001b[39m\u001b[38;5;241m100\u001b[39m:])\u001b[38;5;132;01m:\u001b[39;00m\u001b[38;5;124m.3e\u001b[39m\u001b[38;5;132;01m}\u001b[39;00m\u001b[38;5;124m BER \u001b[39m\u001b[38;5;132;01m{\u001b[39;00mnp\u001b[38;5;241m.\u001b[39mmean(batch_BER[\u001b[38;5;241m-\u001b[39m\u001b[38;5;241m100\u001b[39m:])\u001b[38;5;132;01m:\u001b[39;00m\u001b[38;5;124m.3e\u001b[39m\u001b[38;5;132;01m}\u001b[39;00m\u001b[38;5;124m SER \u001b[39m\u001b[38;5;132;01m{\u001b[39;00mnp\u001b[38;5;241m.\u001b[39mmean(batch_SER)\u001b[38;5;132;01m:\u001b[39;00m\u001b[38;5;124m.3e\u001b[39m\u001b[38;5;132;01m}\u001b[39;00m\u001b[38;5;124m\"\u001b[39m)\n\u001b[0;32m    170\u001b[0m loss_val \u001b[38;5;241m=\u001b[39m \u001b[38;5;28mself\u001b[39m\u001b[38;5;241m.\u001b[39mcompute_validation_loss()\n",
      "File \u001b[1;32m~\\Documents\\GitHub\\wireless-binary-AE\\trainer.py:118\u001b[0m, in \u001b[0;36mTrainer.train_alternate.<locals>.run_epoch.<locals>.train_\u001b[1;34m(encoder_optimizer, decoder_optimizer)\u001b[0m\n\u001b[0;32m    116\u001b[0m loss \u001b[38;5;241m=\u001b[39m F\u001b[38;5;241m.\u001b[39mbinary_cross_entropy(output, m)\n\u001b[0;32m    117\u001b[0m \u001b[38;5;66;03m#loss = loss.mean()\u001b[39;00m\n\u001b[1;32m--> 118\u001b[0m \u001b[43mloss\u001b[49m\u001b[38;5;241;43m.\u001b[39;49m\u001b[43mbackward\u001b[49m\u001b[43m(\u001b[49m\u001b[43m)\u001b[49m\n\u001b[0;32m    120\u001b[0m \u001b[38;5;66;03m#if plot_grad:\u001b[39;00m\n\u001b[0;32m    121\u001b[0m \u001b[38;5;66;03m#    # Store gradient norms\u001b[39;00m\n\u001b[0;32m    122\u001b[0m \u001b[38;5;66;03m#    for name, param in encoder.named_parameters():\u001b[39;00m\n\u001b[1;32m   (...)\u001b[0m\n\u001b[0;32m    139\u001b[0m     \u001b[38;5;66;03m#optimizer.step()  # Perform a weight update\u001b[39;00m\n\u001b[0;32m    140\u001b[0m     \u001b[38;5;66;03m#optimizer.zero_grad()  # Zero out the accumulated gradients\u001b[39;00m\n\u001b[0;32m    142\u001b[0m \u001b[38;5;28;01mif\u001b[39;00m encoder_optimizer:\n",
      "File \u001b[1;32m~\\anaconda3\\envs\\Pytorch\\lib\\site-packages\\torch\\_tensor.py:487\u001b[0m, in \u001b[0;36mTensor.backward\u001b[1;34m(self, gradient, retain_graph, create_graph, inputs)\u001b[0m\n\u001b[0;32m    477\u001b[0m \u001b[38;5;28;01mif\u001b[39;00m has_torch_function_unary(\u001b[38;5;28mself\u001b[39m):\n\u001b[0;32m    478\u001b[0m     \u001b[38;5;28;01mreturn\u001b[39;00m handle_torch_function(\n\u001b[0;32m    479\u001b[0m         Tensor\u001b[38;5;241m.\u001b[39mbackward,\n\u001b[0;32m    480\u001b[0m         (\u001b[38;5;28mself\u001b[39m,),\n\u001b[1;32m   (...)\u001b[0m\n\u001b[0;32m    485\u001b[0m         inputs\u001b[38;5;241m=\u001b[39minputs,\n\u001b[0;32m    486\u001b[0m     )\n\u001b[1;32m--> 487\u001b[0m \u001b[43mtorch\u001b[49m\u001b[38;5;241;43m.\u001b[39;49m\u001b[43mautograd\u001b[49m\u001b[38;5;241;43m.\u001b[39;49m\u001b[43mbackward\u001b[49m\u001b[43m(\u001b[49m\n\u001b[0;32m    488\u001b[0m \u001b[43m    \u001b[49m\u001b[38;5;28;43mself\u001b[39;49m\u001b[43m,\u001b[49m\u001b[43m \u001b[49m\u001b[43mgradient\u001b[49m\u001b[43m,\u001b[49m\u001b[43m \u001b[49m\u001b[43mretain_graph\u001b[49m\u001b[43m,\u001b[49m\u001b[43m \u001b[49m\u001b[43mcreate_graph\u001b[49m\u001b[43m,\u001b[49m\u001b[43m \u001b[49m\u001b[43minputs\u001b[49m\u001b[38;5;241;43m=\u001b[39;49m\u001b[43minputs\u001b[49m\n\u001b[0;32m    489\u001b[0m \u001b[43m\u001b[49m\u001b[43m)\u001b[49m\n",
      "File \u001b[1;32m~\\anaconda3\\envs\\Pytorch\\lib\\site-packages\\torch\\autograd\\__init__.py:200\u001b[0m, in \u001b[0;36mbackward\u001b[1;34m(tensors, grad_tensors, retain_graph, create_graph, grad_variables, inputs)\u001b[0m\n\u001b[0;32m    195\u001b[0m     retain_graph \u001b[38;5;241m=\u001b[39m create_graph\n\u001b[0;32m    197\u001b[0m \u001b[38;5;66;03m# The reason we repeat same the comment below is that\u001b[39;00m\n\u001b[0;32m    198\u001b[0m \u001b[38;5;66;03m# some Python versions print out the first line of a multi-line function\u001b[39;00m\n\u001b[0;32m    199\u001b[0m \u001b[38;5;66;03m# calls in the traceback and some print out the last line\u001b[39;00m\n\u001b[1;32m--> 200\u001b[0m \u001b[43mVariable\u001b[49m\u001b[38;5;241;43m.\u001b[39;49m\u001b[43m_execution_engine\u001b[49m\u001b[38;5;241;43m.\u001b[39;49m\u001b[43mrun_backward\u001b[49m\u001b[43m(\u001b[49m\u001b[43m  \u001b[49m\u001b[38;5;66;43;03m# Calls into the C++ engine to run the backward pass\u001b[39;49;00m\n\u001b[0;32m    201\u001b[0m \u001b[43m    \u001b[49m\u001b[43mtensors\u001b[49m\u001b[43m,\u001b[49m\u001b[43m \u001b[49m\u001b[43mgrad_tensors_\u001b[49m\u001b[43m,\u001b[49m\u001b[43m \u001b[49m\u001b[43mretain_graph\u001b[49m\u001b[43m,\u001b[49m\u001b[43m \u001b[49m\u001b[43mcreate_graph\u001b[49m\u001b[43m,\u001b[49m\u001b[43m \u001b[49m\u001b[43minputs\u001b[49m\u001b[43m,\u001b[49m\n\u001b[0;32m    202\u001b[0m \u001b[43m    \u001b[49m\u001b[43mallow_unreachable\u001b[49m\u001b[38;5;241;43m=\u001b[39;49m\u001b[38;5;28;43;01mTrue\u001b[39;49;00m\u001b[43m,\u001b[49m\u001b[43m \u001b[49m\u001b[43maccumulate_grad\u001b[49m\u001b[38;5;241;43m=\u001b[39;49m\u001b[38;5;28;43;01mTrue\u001b[39;49;00m\u001b[43m)\u001b[49m\n",
      "\u001b[1;31mKeyboardInterrupt\u001b[0m: "
     ]
    }
   ],
   "source": [
    "channel = model.Channel_AWGN().to(device)\n",
    "\n",
    "train_loss = []\n",
    "print(encoder)\n",
    "print(decoder)\n",
    "combined_params = list(encoder.parameters()) + list(decoder.parameters())\n",
    "print(\"parameters: \",sum(p.numel() for p in combined_params))\n",
    "print(\"trainable: \",sum(p.numel() for p in combined_params if p.requires_grad))\n",
    "\n",
    "it = int(5e4/bs) # 5e4 blocks // 500 bs iterations times 6 alternate epochs was TurboAE specs\n",
    "\n",
    "\n",
    "conf = trainer.TrainerConfig(max_epochs=300, noise_std = noise_std, training_snr = TRAINING_SNR, rate=rate, path=path, batchsize=bs, coderate=k, learning_rate=1e-4, iterations=it, optimizer='Adam')\n",
    "t = trainer.Trainer(encoder, decoder, channel, conf)\n",
    "train_loss = t.train_alternate()\n",
    "\n",
    "\n",
    "\n",
    "path_loss = f\"{folder_path}train_loss_{formatted_date}.pth\"\n",
    "with open(path_loss, 'wb') as f:\n",
    "        pickle.dump(train_loss, f)"
   ]
  },
  {
   "cell_type": "code",
   "execution_count": 5,
   "id": "d9383e9e-043d-441c-b861-7e70c1544554",
   "metadata": {
    "collapsed": true,
    "jupyter": {
     "outputs_hidden": true
    },
    "tags": []
   },
   "outputs": [
    {
     "data": {
      "image/png": "[encoded data removed]",
      "text/plain": [
       "<Figure size 640x480 with 1 Axes>"
      ]
     },
     "metadata": {},
     "output_type": "display_data"
    }
   ],
   "source": [
    "with open('./data/train_loss_20231026_140800.pth', 'rb') as f:\n",
    "    train_loss = pickle.load(f)\n",
    "utils.plot_train_loss(train_loss)"
   ]
  },
  {
   "cell_type": "markdown",
   "id": "0a93e3f1-99d1-4fe0-9132-41efe6ca9bff",
   "metadata": {},
   "source": [
    "## Test run"
   ]
  },
  {
   "cell_type": "code",
   "execution_count": null,
   "id": "c0b37e47-c436-410e-aa26-fdb7468eb636",
   "metadata": {},
   "outputs": [],
   "source": [
    "checkpoint = torch.load('./data/Binary_run_20231026_140800.pth')\n",
    "#checkpoint = torch.load('./Binary_run_xx.pth')\n",
    "encoder.load_state_dict(checkpoint['encoder_state_dict'])\n",
    "decoder.load_state_dict(checkpoint['decoder_state_dict'])"
   ]
  },
  {
   "cell_type": "code",
   "execution_count": null,
   "id": "1e9ea3ec-2a53-443c-bd8d-4f0bbdd8da32",
   "metadata": {},
   "outputs": [],
   "source": [
    "import importlib\n",
    "import trainer as trainer\n",
    "importlib.reload(trainer)\n",
    "\n",
    "\n",
    "bler, ser, ber = [], [], []\n",
    "snr_range = [3,4,4.5,5]\n",
    "ber, ser, bler = t.test(snr_range=snr_range, rate=rate, iterations=1e3)"
   ]
  },
  {
   "cell_type": "code",
   "execution_count": null,
   "id": "80fdad25-f4d6-4b15-a950-6a90b5a2959d",
   "metadata": {},
   "outputs": [],
   "source": [
    "import matplotlib.pyplot as plt\n",
    "\n",
    "plt.figure()\n",
    "plt.plot(snr_range, ber, marker='o', linestyle='-', label='BER')\n",
    "plt.plot(snr_range, bler, marker='o', linestyle='-', label='BLER')\n",
    "plt.xlabel('EbN0 (dB)')\n",
    "plt.ylabel('Error Value')\n",
    "plt.yscale('log')\n",
    "plt.legend()\n",
    "plt.grid(True)\n",
    "plt.savefig('ber_bler.png', dpi=300)\n",
    "plt.show()"
   ]
  },
  {
   "cell_type": "markdown",
   "id": "879743b3-0987-4974-9174-0015cffebd8d",
   "metadata": {
    "tags": []
   },
   "source": [
    "## Benchmark results from the vanilla TurboAE code over 400 Epochs with rate=0.5\n",
    "\n",
    "parameters: encoder='TurboAE_rate2_cnn', decoder='TurboAE_rate2_cnn', channel='awgn', vv=5, radar_prob=0.05, radar_power=5.0, bec_p=0.0, bsc_p=0.0, bec_p_dec=0.0, bsc_p_dec=0.0, train_enc_channel_low=2.0, train_enc_channel_high=2.0, train_dec_channel_low=-1.5, train_dec_channel_high=2.0, init_nw_weight='default', code_rate_k=1, code_rate_n=2, enc_rnn='gru', dec_rnn='gru', num_iteration=6, extrinsic=1, num_iter_ft=5, is_interleave=1, is_same_interleaver=1, is_parallel=1, enc_kernel_size=5, dec_kernel_size=5, enc_num_layer=2, dec_num_layer=5, dec_num_unit=100, enc_num_unit=100, enc_act='elu', dec_act='linear', num_ber_puncture=5, joint_train=0, num_train_dec=5, num_train_enc=1, dropout=0.0, snr_test_start=-1.5, snr_test_end=4.0, snr_points=12, batch_size=500, num_epoch=100, test_ratio=1, block_len=100, block_len_low=10, block_len_high=200, is_variable_block_len=False, img_size=10, num_block=50000, test_channel_mode='block_norm', train_channel_mode='block_norm', enc_truncate_limit=0, mod_rate=2, mod_num_layer=1, mod_num_unit=20, demod_num_layer=1, demod_num_unit=20, mod_lr=0.005, demod_lr=0.005, num_train_mod=1, num_train_demod=5, mod_pc='block_power', no_code_norm=False, enc_quantize_level=2, enc_value_limit=1.0, enc_grad_limit=0.01, enc_clipping='both', optimizer='adam', dec_lr=0.0001, enc_lr=0.0001, momentum=0.9, loss='bce', ber_lambda=1.0, bce_lambda=1.0, focal_gamma=0.0, focal_alpha=1.0, lambda_maxBCE=0.01, no_cuda=False, rec_quantize=False, rec_quantize_level=2, rec_quantize_limit=1.0, print_pos_ber=False, print_pos_power=False, print_test_traj=True, precompute_norm_stats=False, is_k_same_code=False, k_same_code=2)"
   ]
  },
  {
   "cell_type": "code",
   "execution_count": 6,
   "id": "4777fbd2-a755-49bb-8903-7ec8ce29556c",
   "metadata": {
    "collapsed": true,
    "jupyter": {
     "outputs_hidden": true
    },
    "tags": []
   },
   "outputs": [
    {
     "data": {
      "image/png": "[encoded data removed]",
      "text/plain": [
       "<Figure size 1200x800 with 6 Axes>"
      ]
     },
     "metadata": {},
     "output_type": "display_data"
    }
   ],
   "source": [
    "import plot_benchmark_turboAE_vanilla as plot_benchmark\n",
    "plot_benchmark.plot()"
   ]
  },
  {
   "cell_type": "code",
   "execution_count": null,
   "id": "7bb996f3-e8df-4784-85f3-0a1df29a2bbf",
   "metadata": {},
   "outputs": [],
   "source": [
    "import gc\n",
    "gc.collect()\n",
    "torch.cuda.empty_cache()\n",
    "utils.print_memory()"
   ]
  }
 ],
 "metadata": {
  "kernelspec": {
   "display_name": "Python 3 (ipykernel)",
   "language": "python",
   "name": "python3"
  },
  "language_info": {
   "codemirror_mode": {
    "name": "ipython",
    "version": 3
   },
   "file_extension": ".py",
   "mimetype": "text/x-python",
   "name": "python",
   "nbconvert_exporter": "python",
   "pygments_lexer": "ipython3",
   "version": "3.10.11"
  }
 },
 "nbformat": 4,
 "nbformat_minor": 5
}
