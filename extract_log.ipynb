{
 "cells": [
  {
   "cell_type": "code",
   "execution_count": 1,
   "id": "8e8a87c6-f5b0-431d-89a6-0f6d8e237a46",
   "metadata": {},
   "outputs": [],
   "source": [
    "import re\n",
    "import numpy as np\n",
    "\n",
    "# Extracts loss and BER numbers from a part of the turboae log\n",
    "# Step 1: Read the text file\n",
    "with open('log2.txt', 'r') as file:\n",
    "    lines = file.readlines()\n",
    "\n",
    "# Step 2: Initialize empty lists for BCE loss, BER, first average loss, and avg of next 5 avg loss\n",
    "bce_loss = []\n",
    "ber = []\n",
    "first_avg_loss = []\n",
    "avg_of_next_5_avg_loss = []\n",
    "\n",
    "# Step 3: Iterate through the lines of the file and extract the necessary information\n",
    "epoch_count = 0  # to track the epoch number\n",
    "avg_loss_buffer = []  # temporary buffer to store average loss values for each epoch\n",
    "\n",
    "for line in lines:\n",
    "    if 'Test set BCE loss' in line:\n",
    "        bce_loss.append(float(re.search(r'Test set BCE loss (\\d+\\.\\d+)', line).group(1)))\n",
    "        ber.append(float(re.search(r'with ber +(\\d+\\.\\d+)', line).group(1)))\n",
    "        first_avg_loss.append(avg_loss_buffer[0])  # append the first average loss of the epoch\n",
    "        avg_of_next_5_avg_loss.append(np.mean(avg_loss_buffer[1:]))  # calculate and append the average of the next 5 average loss\n",
    "        avg_loss_buffer = []  # reset the buffer for the next epoch\n",
    "    elif 'Average loss' in line:\n",
    "        avg_loss_value = float(re.search(r'Average loss: (\\d+\\.\\d+)', line).group(1))\n",
    "        avg_loss_buffer.append(avg_loss_value)"
   ]
  }
 ],
 "metadata": {
  "kernelspec": {
   "display_name": "Python 3 (ipykernel)",
   "language": "python",
   "name": "python3"
  },
  "language_info": {
   "codemirror_mode": {
    "name": "ipython",
    "version": 3
   },
   "file_extension": ".py",
   "mimetype": "text/x-python",
   "name": "python",
   "nbconvert_exporter": "python",
   "pygments_lexer": "ipython3",
   "version": "3.10.11"
  }
 },
 "nbformat": 4,
 "nbformat_minor": 5
}
