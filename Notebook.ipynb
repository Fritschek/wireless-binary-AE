{
 "cells": [
  {
   "cell_type": "code",
   "execution_count": 4,
   "id": "a060dfa1-4be6-4214-a85d-ca8ae31e6631",
   "metadata": {},
   "outputs": [],
   "source": [
    "import numpy as np\n",
    "import torch\n",
    "import pickle\n",
    "import csv\n",
    "import os\n",
    "\n",
    "import random\n",
    "# -----------\n",
    "seed = 1337\n",
    "# Set seeds\n",
    "random.seed(seed)\n",
    "np.random.seed(seed)\n",
    "torch.manual_seed(seed)\n",
    "torch.cuda.manual_seed(seed)\n",
    "torch.cuda.manual_seed_all(seed)\n",
    "#torch.backends.cudnn.deterministic = True\n",
    "#torch.backends.cudnn.benchmark = False\n",
    "\n",
    "# Own libraries\n",
    "import utils\n",
    "import trainer as trainer\n",
    "import model_channel as model\n",
    "import model_turboAE as model_TAE\n",
    "import model_prodAE as model_prodAE\n",
    "\n",
    "import gc\n",
    "gc.collect()\n",
    "torch.cuda.empty_cache()"
   ]
  },
  {
   "cell_type": "markdown",
   "id": "4a258a80-26c9-4615-95a6-587747bbb675",
   "metadata": {},
   "source": [
    "## Encoding parameters\n",
    "\n",
    "k = 64 and n = 128 for rate 0.5. This will yield the same result in SNR and EBN0 and is good for comparison."
   ]
  },
  {
   "cell_type": "code",
   "execution_count": 2,
   "id": "c97ad605-5e1c-46f8-8f97-2f363762dcc7",
   "metadata": {},
   "outputs": [
    {
     "name": "stdout",
     "output_type": "stream",
     "text": [
      "Code rate:  0.5\n"
     ]
    }
   ],
   "source": [
    "k = 100 # msg length in bits\n",
    "n = 200 # codeword length\n",
    "bs = 500  # batch size\n",
    "\n",
    "rate = (k/n)\n",
    "TRAINING_SNR = 2\n",
    "\n",
    "#noise_std = utils.SNR_to_noise(TRAINING_SNR)\n",
    "noise_std = utils.EbNo_to_noise(TRAINING_SNR, rate)\n",
    "\n",
    "print(\"Code rate: \",rate)"
   ]
  },
  {
   "cell_type": "markdown",
   "id": "197b463d-53d7-4e08-ae1d-a1dd54b37ca9",
   "metadata": {},
   "source": [
    "## Create path for data"
   ]
  },
  {
   "cell_type": "code",
   "execution_count": 3,
   "id": "ea92d33e-efa8-4592-9ec0-1726abd56912",
   "metadata": {},
   "outputs": [],
   "source": [
    "from datetime import datetime\n",
    "# Get the current date and time\n",
    "now = datetime.now()\n",
    "# Format the date and time\n",
    "formatted_date = now.strftime(\"%Y%m%d_%H%M%S\")\n",
    "# Construct the model's filename\n",
    "path = f\"./data/Binary_run_{formatted_date}.pth\"\n",
    "\n",
    "folder_path = './data/'\n",
    "if not os.path.exists(folder_path):\n",
    "    os.makedirs(folder_path)\n",
    "    print(f\"'{folder_path}' has been created.\")\n",
    "\n",
    "device = torch.device(\"cuda\" if torch.cuda.is_available() else \"cpu\")"
   ]
  },
  {
   "cell_type": "markdown",
   "id": "b71eda77-d9f2-4e10-9567-e3050516cd23",
   "metadata": {},
   "source": [
    "## Turboe AE\n",
    "\n",
    "- Normal Interleaver is model_TAE.Interleaver(config)\n",
    "- Interleaver with backprop route is \"model_TAE.LearnableInterleaver(config)\"\n",
    "- Gumbel interleaver is experimental for having a \"learnable soft permutation\"."
   ]
  },
  {
   "cell_type": "code",
   "execution_count": null,
   "id": "e9d4dc5d-8118-4c99-8c6e-2f6b76ed3fcd",
   "metadata": {},
   "outputs": [],
   "source": [
    "### Turbo AE\n",
    "config = model_TAE.TurboConfig(block_len=k, enc_num_unit=100, dec_num_unit=100)\n",
    "\n",
    "## Gumbel Interleaver: \n",
    "\n",
    "#import random\n",
    "#perm = list(range(config.block_len))\n",
    "#random.shuffle(perm)\n",
    "#interleaver = model_TAE.GumbelInterleaver(config, permutation=perm)\n",
    "\n",
    "## Normal interleaver:\n",
    "\n",
    "#interleaver = model_TAE.LearnableInterleaver(config)\n",
    "interleaver = model_TAE.Interleaver(config)\n",
    "\n",
    "encoder = model_TAE.ENC_CNNTurbo(config, interleaver).to(device)\n",
    "decoder = model_TAE.DEC_CNNTurbo(config, interleaver).to(device)"
   ]
  },
  {
   "cell_type": "code",
   "execution_count": 5,
   "id": "0159ae8e-6dcd-4bca-86ea-8211af193bf0",
   "metadata": {},
   "outputs": [],
   "source": [
    "#encoder = model_CNNENC.Encoder().to(device)\n",
    "#decoder = model_CNNENC.Decoder().to(device)"
   ]
  },
  {
   "cell_type": "code",
   "execution_count": 6,
   "id": "56db3341-f4e8-4cce-ad25-1086f1830f2d",
   "metadata": {},
   "outputs": [],
   "source": [
    "#encoder = model_t.TransformerEncoder(input_dim=k, num_symbols=2, d_model=64, nhead=8, num_layers=2, dim_feedforward=256, output_dim=n).to(device)\n",
    "#decoder = model_t.TransformerDecoder(input_dim=n, d_model=64, nhead=8, num_layers=1, dim_feedforward=256, output_dim=k).to(device)"
   ]
  },
  {
   "cell_type": "markdown",
   "id": "e6c1c4ed-b278-46a6-8b27-10d1ce6b015f",
   "metadata": {},
   "source": [
    "## Product AE\n",
    "\n",
    "Implementation of the product AE paper. The code is (K_1 x K_2, N_1 x N_2) long "
   ]
  },
  {
   "cell_type": "code",
   "execution_count": 7,
   "id": "17093359-aead-4078-bb7d-181fc097a2cb",
   "metadata": {},
   "outputs": [],
   "source": [
    "# Encoding parameters\n",
    "#K = [8, 8]\n",
    "#N = [8, 16]\n",
    "\n",
    "#rate = (K[0]/N[0])*(K[1]/N[1])\n",
    "#I = 4\n",
    "\n",
    "#encoder = model_prodAE.ProductAEEncoder(K, N).to(device)\n",
    "#decoder = model_prodAE.ProdDecoder(I, K, N).to(device)"
   ]
  },
  {
   "cell_type": "markdown",
   "id": "cd12c846-9870-4a2a-b728-2cd8b2b4bf60",
   "metadata": {},
   "source": [
    "## Load Checkpoints if necessary"
   ]
  },
  {
   "cell_type": "code",
   "execution_count": 8,
   "id": "0b96ddc1-1046-4979-9dec-212ae6a3ce43",
   "metadata": {},
   "outputs": [
    {
     "data": {
      "text/plain": [
       "<All keys matched successfully>"
      ]
     },
     "execution_count": 8,
     "metadata": {},
     "output_type": "execute_result"
    }
   ],
   "source": [
    "#checkpoint = torch.load('./data/Binary_run_x.pth')\n",
    "#encoder.load_state_dict(checkpoint['encoder_state_dict'])\n",
    "#decoder.load_state_dict(checkpoint['decoder_state_dict'])"
   ]
  },
  {
   "cell_type": "code",
   "execution_count": null,
   "id": "c0f1d1db-313f-4f1f-a7ff-d788d0d9a6ad",
   "metadata": {
    "tags": []
   },
   "outputs": [],
   "source": [
    "channel = model.Channel_AWGN().to(device)\n",
    "\n",
    "train_loss = []\n",
    "print(encoder)\n",
    "print(decoder)\n",
    "combined_params = list(encoder.parameters()) + list(decoder.parameters())\n",
    "print(\"parameters: \",sum(p.numel() for p in combined_params))\n",
    "print(\"trainable: \",sum(p.numel() for p in combined_params if p.requires_grad))\n",
    "\n",
    "it = int(5e4/bs) # 5e4 blocks // 500 bs iterations times 6 alternate epochs was TurboAE specs\n",
    "\n",
    "\n",
    "conf = trainer.TrainerConfig(max_epochs=300, noise_std = noise_std, training_snr = TRAINING_SNR, rate=rate, path=path, batchsize=bs, coderate=k, learning_rate=1e-4, iterations=it, optimizer='Adam')\n",
    "t = trainer.Trainer(encoder, decoder, channel, conf)\n",
    "train_loss = t.train_alternate()\n",
    "\n",
    "\n",
    "\n",
    "path_loss = f\"{folder_path}train_loss_{formatted_date}.pth\"\n",
    "with open(path_loss, 'wb') as f:\n",
    "        pickle.dump(train_loss, f)"
   ]
  },
  {
   "cell_type": "code",
   "execution_count": null,
   "id": "35d3fe88-fdd0-400e-b5d4-ae2131b434a6",
   "metadata": {
    "tags": []
   },
   "outputs": [],
   "source": [
    "with open('./data/train_loss_20231026_140800.pth', 'rb') as f:\n",
    "    train_loss = pickle.load(f)\n",
    "utils.plot_train_loss(train_loss)"
   ]
  },
  {
   "cell_type": "markdown",
   "id": "0a93e3f1-99d1-4fe0-9132-41efe6ca9bff",
   "metadata": {
    "tags": []
   },
   "source": [
    "## Test run"
   ]
  },
  {
   "cell_type": "code",
   "execution_count": null,
   "id": "c0b37e47-c436-410e-aa26-fdb7468eb636",
   "metadata": {},
   "outputs": [],
   "source": [
    "checkpoint = torch.load('./data/Binary_run_20231026_140800.pth')\n",
    "#checkpoint = torch.load('./Binary_run_xx.pth')\n",
    "encoder.load_state_dict(checkpoint['encoder_state_dict'])\n",
    "decoder.load_state_dict(checkpoint['decoder_state_dict'])"
   ]
  },
  {
   "cell_type": "code",
   "execution_count": null,
   "id": "1e9ea3ec-2a53-443c-bd8d-4f0bbdd8da32",
   "metadata": {},
   "outputs": [],
   "source": [
    "import importlib\n",
    "import trainer as trainer\n",
    "importlib.reload(trainer)\n",
    "\n",
    "\n",
    "bler, ser, ber = [], [], []\n",
    "snr_range = [3,4,4.5,5]\n",
    "ber, ser, bler = t.test(snr_range=snr_range, rate=rate, iterations=1e3)"
   ]
  },
  {
   "cell_type": "code",
   "execution_count": null,
   "id": "80fdad25-f4d6-4b15-a950-6a90b5a2959d",
   "metadata": {},
   "outputs": [],
   "source": [
    "import matplotlib.pyplot as plt\n",
    "\n",
    "plt.figure()\n",
    "plt.plot(snr_range, ber, marker='o', linestyle='-', label='BER')\n",
    "plt.plot(snr_range, bler, marker='o', linestyle='-', label='BLER')\n",
    "plt.xlabel('EbN0 (dB)')\n",
    "plt.ylabel('Error Value')\n",
    "plt.yscale('log')\n",
    "plt.legend()\n",
    "plt.grid(True)\n",
    "plt.savefig('ber_bler.png', dpi=300)\n",
    "plt.show()"
   ]
  },
  {
   "cell_type": "markdown",
   "id": "879743b3-0987-4974-9174-0015cffebd8d",
   "metadata": {
    "tags": []
   },
   "source": [
    "## Benchmark results from the vanilla TurboAE code over 400 Epochs with rate=0.5\n",
    "\n",
    "parameters: encoder='TurboAE_rate2_cnn', decoder='TurboAE_rate2_cnn', channel='awgn', vv=5, radar_prob=0.05, radar_power=5.0, bec_p=0.0, bsc_p=0.0, bec_p_dec=0.0, bsc_p_dec=0.0, train_enc_channel_low=2.0, train_enc_channel_high=2.0, train_dec_channel_low=-1.5, train_dec_channel_high=2.0, init_nw_weight='default', code_rate_k=1, code_rate_n=2, enc_rnn='gru', dec_rnn='gru', num_iteration=6, extrinsic=1, num_iter_ft=5, is_interleave=1, is_same_interleaver=1, is_parallel=1, enc_kernel_size=5, dec_kernel_size=5, enc_num_layer=2, dec_num_layer=5, dec_num_unit=100, enc_num_unit=100, enc_act='elu', dec_act='linear', num_ber_puncture=5, joint_train=0, num_train_dec=5, num_train_enc=1, dropout=0.0, snr_test_start=-1.5, snr_test_end=4.0, snr_points=12, batch_size=500, num_epoch=100, test_ratio=1, block_len=100, block_len_low=10, block_len_high=200, is_variable_block_len=False, img_size=10, num_block=50000, test_channel_mode='block_norm', train_channel_mode='block_norm', enc_truncate_limit=0, mod_rate=2, mod_num_layer=1, mod_num_unit=20, demod_num_layer=1, demod_num_unit=20, mod_lr=0.005, demod_lr=0.005, num_train_mod=1, num_train_demod=5, mod_pc='block_power', no_code_norm=False, enc_quantize_level=2, enc_value_limit=1.0, enc_grad_limit=0.01, enc_clipping='both', optimizer='adam', dec_lr=0.0001, enc_lr=0.0001, momentum=0.9, loss='bce', ber_lambda=1.0, bce_lambda=1.0, focal_gamma=0.0, focal_alpha=1.0, lambda_maxBCE=0.01, no_cuda=False, rec_quantize=False, rec_quantize_level=2, rec_quantize_limit=1.0, print_pos_ber=False, print_pos_power=False, print_test_traj=True, precompute_norm_stats=False, is_k_same_code=False, k_same_code=2)"
   ]
  },
  {
   "cell_type": "code",
   "execution_count": null,
   "id": "b008af6e-e019-4a3c-bb2f-b8252e2680a7",
   "metadata": {
    "tags": []
   },
   "outputs": [],
   "source": [
    "import plot_benchmark_turboAE_vanilla as plot_benchmark\n",
    "plot_benchmark.plot()"
   ]
  },
  {
   "cell_type": "code",
   "execution_count": null,
   "id": "7bb996f3-e8df-4784-85f3-0a1df29a2bbf",
   "metadata": {},
   "outputs": [],
   "source": [
    "import gc\n",
    "gc.collect()\n",
    "torch.cuda.empty_cache()\n",
    "utils.print_memory()"
   ]
  }
 ],
 "metadata": {
  "kernelspec": {
   "display_name": "Python 3 (ipykernel)",
   "language": "python",
   "name": "python3"
  },
  "language_info": {
   "codemirror_mode": {
    "name": "ipython",
    "version": 3
   },
   "file_extension": ".py",
   "mimetype": "text/x-python",
   "name": "python",
   "nbconvert_exporter": "python",
   "pygments_lexer": "ipython3",
   "version": "3.10.11"
  }
 },
 "nbformat": 4,
 "nbformat_minor": 5
}
